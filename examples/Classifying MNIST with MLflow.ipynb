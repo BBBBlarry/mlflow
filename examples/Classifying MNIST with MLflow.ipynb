{
 "cells": [
  {
   "cell_type": "markdown",
   "metadata": {},
   "source": [
    "# Classifying MNIST with MLflow\n",
    "\n",
    "This is a demo for using the MLflow machine learning library to classify digits in the MNIST dataset. "
   ]
  },
  {
   "cell_type": "markdown",
   "metadata": {},
   "source": [
    "## Imports"
   ]
  },
  {
   "cell_type": "code",
   "execution_count": 10,
   "metadata": {
    "collapsed": false
   },
   "outputs": [
    {
     "name": "stderr",
     "output_type": "stream",
     "text": [
      "/Users/macbook/miniconda2/lib/python2.7/site-packages/matplotlib/__init__.py:1120: UserWarning: Bad val \"$TEMPLATE_BACKEND\" on line #41\n",
      "\t\"backend      : $TEMPLATE_BACKEND\n",
      "\"\n",
      "\tin file \"/Users/macbook/.matplotlib/matplotlibrc\"\n",
      "\tKey backend: Unrecognized backend string \"$template_backend\": valid strings are [u'pgf', u'ps', u'Qt4Agg', u'GTK', u'GTKAgg', u'nbAgg', u'agg', u'cairo', u'MacOSX', u'GTKCairo', u'Qt5Agg', u'template', u'WXAgg', u'TkAgg', u'GTK3Cairo', u'GTK3Agg', u'svg', u'WebAgg', u'pdf', u'gdk', u'WX']\n",
      "  (val, error_details, msg))\n"
     ]
    }
   ],
   "source": [
    "# main library\n",
    "import mlflow as mf\n",
    "import numpy as np\n",
    "# to run this example, you have to install python-mnist and scikit learn\n",
    "# use \"pip install python-mnist\"\n",
    "from mnist import MNIST\n",
    "from sklearn.preprocessing import StandardScaler\n",
    "# use \"pip install sklearn\"\n",
    "from sklearn.utils import shuffle\n",
    "# for progress bar\n",
    "from tqdm import tqdm\n",
    "from matplotlib import pyplot as plt"
   ]
  },
  {
   "cell_type": "markdown",
   "metadata": {},
   "source": [
    "## Generating Dataset and Setting Hyperparameters"
   ]
  },
  {
   "cell_type": "code",
   "execution_count": 2,
   "metadata": {
    "collapsed": true
   },
   "outputs": [],
   "source": [
    "# for testing consistency\n",
    "np.random.seed(42)"
   ]
  },
  {
   "cell_type": "code",
   "execution_count": 12,
   "metadata": {
    "collapsed": false
   },
   "outputs": [],
   "source": [
    "### data set\n",
    "mndata = MNIST('./dataset')\n",
    "x_train, y_train = mndata.load_training()\n",
    "x_test, y_test = mndata.load_testing()\n",
    "\n",
    "# make a test image for visualization\n",
    "test_img = x_train[0]\n",
    "\n",
    "# make them numpy arrays\n",
    "x_train, _y_train, x_test, _y_test = np.array(x_train), np.array(y_train), np.array(x_test), np.array(y_test)"
   ]
  },
  {
   "cell_type": "code",
   "execution_count": 4,
   "metadata": {
    "collapsed": true
   },
   "outputs": [],
   "source": [
    "# hyperparams\n",
    "l_rate = 0.5\n",
    "s_rate = 0.2\n",
    "training_size = x_train.shape[0]\n",
    "test_size = x_test.shape[0]\n",
    "batch_size = 50\n",
    "n_batches = training_size / batch_size\n",
    "epochs = 10\n",
    "image_size = x_train.shape[1]\n",
    "n_labels = 10"
   ]
  },
  {
   "cell_type": "code",
   "execution_count": 5,
   "metadata": {
    "collapsed": false
   },
   "outputs": [
    {
     "name": "stdout",
     "output_type": "stream",
     "text": [
      "Data preparation compelete...\n"
     ]
    },
    {
     "name": "stderr",
     "output_type": "stream",
     "text": [
      "/Users/macbook/miniconda2/lib/python2.7/site-packages/sklearn/utils/validation.py:429: DataConversionWarning: Data with input dtype int64 was converted to float64 by StandardScaler.\n",
      "  warnings.warn(msg, _DataConversionWarning)\n"
     ]
    }
   ],
   "source": [
    "# onehot encode labels\n",
    "y_train = np.zeros((training_size, n_labels))\n",
    "y_test = np.zeros((test_size, n_labels))\n",
    "# standarize data\n",
    "std = StandardScaler()\n",
    "x_train = std.fit_transform(x_train)\n",
    "x_test = std.transform(x_test)\n",
    "\n",
    "for y_idx in range(training_size):\n",
    "\thot_idx = _y_train[y_idx]\n",
    "\ty_train[y_idx, hot_idx] = 1\n",
    "\n",
    "for y_idx in range(test_size):\n",
    "\thot_idx = _y_test[y_idx]\n",
    "\ty_test[y_idx, hot_idx] = 1\n",
    "\n",
    "print \"Data preparation compelete...\"\n"
   ]
  },
  {
   "cell_type": "markdown",
   "metadata": {},
   "source": [
    "## Creating a Computation Graph"
   ]
  },
  {
   "cell_type": "code",
   "execution_count": 6,
   "metadata": {
    "collapsed": true
   },
   "outputs": [],
   "source": [
    "# get the graph from pickle\n",
    "g = mf.Graph()\n",
    "\n",
    "### input data place holder\n",
    "x_placeholder = mf.placeholder([batch_size, image_size], graph = g)\n",
    "y_placeholder = mf.placeholder([batch_size, n_labels], graph = g)\n",
    "\n",
    "### NN layer 1\n",
    "W1 = mf.Variable(np.random.random((image_size, 200)), graph = g)\n",
    "b1 = mf.Variable(np.zeros((200)), graph = g) \n",
    "\n",
    "### activation\n",
    "z1 = mf.matmul(x_placeholder, W1, graph = g) + b1\n",
    "a1 = mf.sigmoid(z1, graph = g)\n",
    "\n",
    "### NN layer 2\n",
    "W2 = mf.Variable(np.random.random((200, n_labels)), graph = g)\n",
    "b2 = mf.Variable(np.zeros((n_labels)), graph = g) \n",
    "\n",
    "### activation\n",
    "z2 = mf.matmul(a1, W2, graph = g) + b2\n",
    "pred = mf.sigmoid(z2, graph = g)\n",
    "\n",
    "\n",
    "### cost function\n",
    "cost = mf.sum(pow((pred - y_placeholder), 2.0), graph = g) / (2 * batch_size)\n",
    "\n",
    "# optimizer\n",
    "opt = mf.Train.AdaGradOptimizer(l_rate, graph = g).minimize(cost)"
   ]
  },
  {
   "cell_type": "markdown",
   "metadata": {},
   "source": [
    "## Optimization"
   ]
  },
  {
   "cell_type": "code",
   "execution_count": 7,
   "metadata": {
    "collapsed": false
   },
   "outputs": [
    {
     "name": "stderr",
     "output_type": "stream",
     "text": [
      "  4%|▍         | 50/1200 [00:01<00:22, 50.55it/s]/Users/macbook/miniconda2/lib/python2.7/site-packages/mlflow/Ops/linalg.py:10: RuntimeWarning: overflow encountered in exp\n",
      "  return 1.0 / (1.0 + np.exp(-a))\n",
      "100%|██████████| 1200/1200 [00:21<00:00, 56.24it/s]"
     ]
    },
    {
     "name": "stdout",
     "output_type": "stream",
     "text": [
      "Epoch 0\n",
      "Cost:  2.81334710162\n",
      "Epoch 1\n",
      "Cost:  "
     ]
    },
    {
     "name": "stderr",
     "output_type": "stream",
     "text": [
      "\n",
      "100%|██████████| 1200/1200 [00:29<00:00, 34.48it/s]"
     ]
    },
    {
     "name": "stdout",
     "output_type": "stream",
     "text": [
      "0.181512015844\n",
      "Epoch 2\n",
      "Cost:  "
     ]
    },
    {
     "name": "stderr",
     "output_type": "stream",
     "text": [
      "\n",
      "100%|██████████| 1200/1200 [00:23<00:00, 51.88it/s]"
     ]
    },
    {
     "name": "stdout",
     "output_type": "stream",
     "text": [
      "0.190042765939\n",
      "Epoch 3\n",
      "Cost:  "
     ]
    },
    {
     "name": "stderr",
     "output_type": "stream",
     "text": [
      "\n",
      "100%|██████████| 1200/1200 [00:26<00:00, 45.58it/s]"
     ]
    },
    {
     "name": "stdout",
     "output_type": "stream",
     "text": [
      "0.145332043981\n",
      "Epoch 4\n",
      "Cost:  "
     ]
    },
    {
     "name": "stderr",
     "output_type": "stream",
     "text": [
      "\n",
      "100%|██████████| 1200/1200 [00:31<00:00, 37.54it/s]"
     ]
    },
    {
     "name": "stdout",
     "output_type": "stream",
     "text": [
      "0.166945965818\n",
      "Epoch 5\n",
      "Cost:  "
     ]
    },
    {
     "name": "stderr",
     "output_type": "stream",
     "text": [
      "\n",
      "100%|██████████| 1200/1200 [00:32<00:00, 36.52it/s]"
     ]
    },
    {
     "name": "stdout",
     "output_type": "stream",
     "text": [
      "0.168687326088\n",
      "Epoch 6\n",
      "Cost:  "
     ]
    },
    {
     "name": "stderr",
     "output_type": "stream",
     "text": [
      "\n",
      "100%|██████████| 1200/1200 [00:32<00:00, 36.42it/s]"
     ]
    },
    {
     "name": "stdout",
     "output_type": "stream",
     "text": [
      "0.158698946298\n",
      "Epoch 7\n",
      "Cost:  "
     ]
    },
    {
     "name": "stderr",
     "output_type": "stream",
     "text": [
      "\n",
      "100%|██████████| 1200/1200 [00:22<00:00, 54.34it/s]"
     ]
    },
    {
     "name": "stdout",
     "output_type": "stream",
     "text": [
      "0.153223010334\n",
      "Epoch 8\n",
      "Cost:  "
     ]
    },
    {
     "name": "stderr",
     "output_type": "stream",
     "text": [
      "\n",
      "100%|██████████| 1200/1200 [00:20<00:00, 59.06it/s]"
     ]
    },
    {
     "name": "stdout",
     "output_type": "stream",
     "text": [
      "0.128402926473\n",
      "Epoch 9\n",
      "Cost:  "
     ]
    },
    {
     "name": "stderr",
     "output_type": "stream",
     "text": [
      "\n",
      "100%|██████████| 1200/1200 [00:19<00:00, 60.53it/s]"
     ]
    },
    {
     "name": "stdout",
     "output_type": "stream",
     "text": [
      "0.0908914086771\n",
      "50 Sample Train Cost: \n",
      "0.163068355402\n",
      "50 Sample Test Cost: \n",
      "0.110391132192\n"
     ]
    },
    {
     "name": "stderr",
     "output_type": "stream",
     "text": [
      "\n"
     ]
    }
   ],
   "source": [
    "# create session and run prediction!\n",
    "sess = mf.Session(g)\n",
    "for e in range(epochs):\n",
    "\tprint \"Epoch \" + str(e)\n",
    "\tprint \"Cost: \", sess.run(cost, feed_dict = {x_placeholder: x_train[:batch_size], y_placeholder: y_train[:batch_size]})\n",
    "\tfor b in tqdm(range(n_batches)):\n",
    "\t\tsess.run(opt, feed_dict = {x_placeholder: x_train[b * batch_size:(b + 1) * batch_size], y_placeholder: y_train[b * batch_size:(b + 1) * batch_size]})\n",
    "\tx_train, y_train = shuffle(x_train, y_train, random_state=42)\n",
    "\n",
    "print \"50 Sample Train Cost: \\n\", sess.run(cost, feed_dict = {x_placeholder: x_train[:batch_size], y_placeholder: y_train[:batch_size]})\n",
    "print \"50 Sample Test Cost: \\n\", sess.run(cost, feed_dict = {x_placeholder: x_test[:batch_size], y_placeholder: y_test[:batch_size]})\n"
   ]
  }
 ],
 "metadata": {
  "kernelspec": {
   "display_name": "Python 2",
   "language": "python",
   "name": "python2"
  },
  "language_info": {
   "codemirror_mode": {
    "name": "ipython",
    "version": 2
   },
   "file_extension": ".py",
   "mimetype": "text/x-python",
   "name": "python",
   "nbconvert_exporter": "python",
   "pygments_lexer": "ipython2",
   "version": "2.7.12"
  }
 },
 "nbformat": 4,
 "nbformat_minor": 0
}
